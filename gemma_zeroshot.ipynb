{
 "cells": [
  {
   "cell_type": "code",
   "execution_count": 6,
   "metadata": {},
   "outputs": [],
   "source": [
    "import torch\n",
    "from datasets import load_dataset, Dataset\n",
    "from peft import LoraConfig, AutoPeftModelForCausalLM\n",
    "from transformers import AutoModelForCausalLM, AutoTokenizer, BitsAndBytesConfig, TrainingArguments\n",
    "from trl import SFTTrainer\n",
    "import os\n",
    "import pandas as pd\n",
    "import numpy as np"
   ]
  },
  {
   "cell_type": "code",
   "execution_count": 2,
   "metadata": {},
   "outputs": [],
   "source": [
    "# first mention dataset name\n",
    "#dataset=\"burkelibbey/colors\"\n",
    "dataset=\"bentrevett/multi30k\"\n",
    "# then specify model, we use chat for shorter trainer time, we will try base later\n",
    "model_id=\"google/gemma-2b\"\n",
    "# define output directory\n",
    "#output_model=\"tinyllama-colorist-v1\"\n",
    "output_model=\"gemma-2b-multi30k-v1-en-ger\""
   ]
  },
  {
   "cell_type": "code",
   "execution_count": 22,
   "metadata": {},
   "outputs": [],
   "source": [
    "from transformers import GenerationConfig\n",
    "from time import perf_counter\n",
    "\n",
    "def get_model_and_tokenizer(mode_id):\n",
    "    # use tokenizer from llama2\n",
    "    tokenizer = AutoTokenizer.from_pretrained('philschmid/gemma-tokenizer-chatml')\n",
    "    tokenizer.pad_token = tokenizer.eos_token\n",
    "    # uses bits and bytes package\n",
    "    bnb_config = BitsAndBytesConfig(\n",
    "        load_in_4bit=True, bnb_4bit_quant_type=\"nf4\", bnb_4bit_compute_dtype=\"float16\", bnb_4bit_use_double_quant=True\n",
    "    )\n",
    "    # loads the model\n",
    "    model = AutoModelForCausalLM.from_pretrained(\n",
    "        mode_id, quantization_config=bnb_config, device_map=\"auto\"\n",
    "    )\n",
    "    model.config.use_cache=False\n",
    "    model.config.pretraining_tp=1\n",
    "    # returns a model and tokenizer\n",
    "    return model, tokenizer\n",
    "\n",
    "def formatted_prompt(question)-> str:\n",
    "    return f\"Translate from English to German: {question}\\n\\nassistant:\\n\"\n",
    "\n",
    "def generate_response(user_input):\n",
    "\n",
    "  prompt = formatted_prompt(user_input)\n",
    "\n",
    "  inputs = tokenizer([prompt], return_tensors=\"pt\")\n",
    "  generation_config = GenerationConfig(penalty_alpha=0.6,do_sample = True,\n",
    "      top_k=5,temperature=0.5,repetition_penalty=1.2,\n",
    "      max_new_tokens=12,pad_token_id=tokenizer.eos_token_id\n",
    "  )\n",
    "  start_time = perf_counter()\n",
    "\n",
    "  inputs = tokenizer(prompt, return_tensors=\"pt\").to('cuda')\n",
    "\n",
    "  outputs = model.generate(**inputs, generation_config=generation_config)\n",
    "  output=tokenizer.decode(outputs[0], skip_special_tokens=True)\n",
    "  #print(output)\n",
    "  output_time = perf_counter() - start_time\n",
    "  #print(f\"Time taken for inference: {round(output_time,2)} seconds\")\n",
    "  return output"
   ]
  },
  {
   "cell_type": "code",
   "execution_count": 4,
   "metadata": {},
   "outputs": [
    {
     "data": {
      "application/vnd.jupyter.widget-view+json": {
       "model_id": "00ea79d74b80443ebafa6afb889c3ebd",
       "version_major": 2,
       "version_minor": 0
      },
      "text/plain": [
       "Downloading shards:   0%|          | 0/2 [00:00<?, ?it/s]"
      ]
     },
     "metadata": {},
     "output_type": "display_data"
    },
    {
     "data": {
      "application/vnd.jupyter.widget-view+json": {
       "model_id": "f01f0cba5e5d4f4ca5b8df079cd6ef01",
       "version_major": 2,
       "version_minor": 0
      },
      "text/plain": [
       "Loading checkpoint shards:   0%|          | 0/2 [00:00<?, ?it/s]"
      ]
     },
     "metadata": {},
     "output_type": "display_data"
    }
   ],
   "source": [
    "model, tokenizer = get_model_and_tokenizer(model_id)"
   ]
  },
  {
   "cell_type": "code",
   "execution_count": 5,
   "metadata": {},
   "outputs": [],
   "source": [
    "data_test = load_dataset(dataset, split=\"test\")"
   ]
  },
  {
   "cell_type": "code",
   "execution_count": 32,
   "metadata": {},
   "outputs": [],
   "source": [
    "input_en=[]\n",
    "output_de=[]\n",
    "gt_de=[]\n",
    "\n",
    "for r in data_test:\n",
    "  input_en.append(r[\"en\"])\n",
    "  out=generate_response(user_input=r[\"en\"])\n",
    "  out=str(out).split('assistant:')[-1].strip()\n",
    "  #processed_out=re.sub(\"[^A-Za-z., ]\",\"\",out)\n",
    "  output_de.append(out)\n",
    "  gt_de.append(r[\"de\"])\n",
    "\n",
    "test_translation={\n",
    "    'input_en':input_en,\n",
    "    'output_de':output_de,\n",
    "    \"gt_de\":gt_de\n",
    "}\n",
    "test_translation_df=pd.DataFrame(test_translation)\n",
    "test_translation_df.to_csv('gemma_zeroshot_multi30k_en_ger.csv')"
   ]
  },
  {
   "cell_type": "code",
   "execution_count": 31,
   "metadata": {},
   "outputs": [
    {
     "name": "stdout",
     "output_type": "stream",
     "text": [
      "Translate from English to German: A man in an orange hat starring at something.\n",
      "\n",
      "assistant:\n",
      "a woman who is a red\n"
     ]
    }
   ],
   "source": [
    "out=generate_response(user_input=data_test[0]['en'])\n",
    "#out=out.split('assistant:')[-1].strip()\n",
    "# processed_out=re.sub(\"[^A-Za-z0-9., ]\",\"\",out)\n",
    "print(out)"
   ]
  },
  {
   "cell_type": "code",
   "execution_count": null,
   "metadata": {},
   "outputs": [],
   "source": []
  }
 ],
 "metadata": {
  "kernelspec": {
   "display_name": "pytorch-intro",
   "language": "python",
   "name": "python3"
  },
  "language_info": {
   "codemirror_mode": {
    "name": "ipython",
    "version": 3
   },
   "file_extension": ".py",
   "mimetype": "text/x-python",
   "name": "python",
   "nbconvert_exporter": "python",
   "pygments_lexer": "ipython3",
   "version": "3.9.17"
  },
  "orig_nbformat": 4
 },
 "nbformat": 4,
 "nbformat_minor": 2
}
